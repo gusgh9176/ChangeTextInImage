{
 "cells": [
  {
   "cell_type": "code",
   "execution_count": 1,
   "metadata": {},
   "outputs": [
    {
     "name": "stderr",
     "output_type": "stream",
     "text": [
      "Using TensorFlow backend.\n"
     ]
    }
   ],
   "source": [
    "from __future__ import print_function\n",
    "import keras\n",
    "from keras.layers import Dense, Dropout, Activation, Flatten\n",
    "from keras.layers import Conv2D, MaxPooling2D\n",
    "from keras.models import Sequential\n",
    "import cv2\n",
    "import os\n",
    "import numpy as np\n",
    "from keras.utils import np_utils\n",
    "from keras.callbacks import EarlyStopping\n",
    "from datetime import datetime\n",
    "from sklearn.metrics import accuracy_score, f1_score\n",
    "\n",
    "p_file_list = os.listdir(\"./positive2\")\n",
    "y_data = []\n",
    "\n",
    "for i in range(len(p_file_list)):\n",
    "    y_data.append([0])\n",
    "    \n",
    "n_file_list = os.listdir(\"./negative2\")\n",
    "\n",
    "for i in range(len(n_file_list)):\n",
    "    y_data.append([1])\n",
    "\n",
    "file_list = p_file_list + n_file_list\n",
    "sfl_num = list(range(len(file_list)))\n",
    "np.random.shuffle(sfl_num)\n",
    "\n",
    "tmp_std = int(len(sfl_num)/10 * 7)\n",
    "tr_sfl_num = sfl_num[:tmp_std]\n",
    "ts_sfl_num = sfl_num[tmp_std:]"
   ]
  },
  {
   "cell_type": "code",
   "execution_count": 2,
   "metadata": {},
   "outputs": [],
   "source": [
    "x_train = []\n",
    "y_train = []\n",
    "x_test = []\n",
    "y_test = []\n",
    "\n",
    "for element in tr_sfl_num:\n",
    "    if y_data[element] == [0]:\n",
    "        tmp_str = str(\"./positive2/\") + file_list[element]\n",
    "    else :\n",
    "        tmp_str = str(\"./negative2/\") + file_list[element]\n",
    "    x_train.append(cv2.imread(tmp_str, cv2.IMREAD_GRAYSCALE))\n",
    "    y_train.append(y_data[element])\n",
    "    \n",
    "for element in ts_sfl_num:\n",
    "    if y_data[element] == [0]:\n",
    "        tmp_str = str(\"./positive2/\") + file_list[element]\n",
    "    else :\n",
    "        tmp_str = str(\"./negative2/\") + file_list[element]\n",
    "    x_test.append(cv2.imread(tmp_str, cv2.IMREAD_GRAYSCALE))\n",
    "    y_test.append(y_data[element])"
   ]
  },
  {
   "cell_type": "code",
   "execution_count": 3,
   "metadata": {},
   "outputs": [
    {
     "name": "stdout",
     "output_type": "stream",
     "text": [
      "(200, 200)\n"
     ]
    }
   ],
   "source": [
    "for i in range(len(x_train)):\n",
    "    x_train[i] = cv2.resize(x_train[i], (200, 200))\n",
    "    x_train[i] = x_train[i] / 255\n",
    "    \n",
    "print(x_train[1].shape)\n",
    "\n",
    "for i in range(len(x_test)):\n",
    "    x_test[i] = cv2.resize(x_test[i], (200, 200))\n",
    "    x_test[i] - x_test[i]/255\n",
    "    \n",
    "x_train= np.asarray(x_train)\n",
    "x_test = np.asarray(x_test)\n",
    "    \n",
    "x_train = x_train.reshape(len(y_train),200,200,1)\n",
    "x_test = x_test.reshape(len(y_test),200,200,1)\n",
    "\n",
    "y_train = keras.utils.to_categorical(y_train, 2)\n",
    "y_test = keras.utils.to_categorical(y_test, 2)"
   ]
  },
  {
   "cell_type": "code",
   "execution_count": 4,
   "metadata": {},
   "outputs": [
    {
     "name": "stdout",
     "output_type": "stream",
     "text": [
      "WARNING:tensorflow:From C:\\Users\\32144204\\AppData\\Local\\Continuum\\anaconda3\\lib\\site-packages\\tensorflow\\python\\framework\\op_def_library.py:263: colocate_with (from tensorflow.python.framework.ops) is deprecated and will be removed in a future version.\n",
      "Instructions for updating:\n",
      "Colocations handled automatically by placer.\n",
      "WARNING:tensorflow:From C:\\Users\\32144204\\AppData\\Local\\Continuum\\anaconda3\\lib\\site-packages\\keras\\backend\\tensorflow_backend.py:3445: calling dropout (from tensorflow.python.ops.nn_ops) with keep_prob is deprecated and will be removed in a future version.\n",
      "Instructions for updating:\n",
      "Please use `rate` instead of `keep_prob`. Rate should be set to `rate = 1 - keep_prob`.\n"
     ]
    }
   ],
   "source": [
    "#create model\n",
    "model = Sequential()\n",
    "#add model layers\n",
    "model.add(Conv2D(16, (3, 3), activation='relu', padding = 'Same', input_shape=(200, 200, 1)))\n",
    "model.add(Conv2D(32, (3, 3), activation='relu', padding = 'Same'))\n",
    "model.add(MaxPooling2D(pool_size=(2, 2)))\n",
    "model.add(Dropout(0.1))\n",
    "model.add(Conv2D(32, (3, 3), activation='relu', padding = 'Same'))\n",
    "model.add(Conv2D(64, (3, 3), activation='relu', padding = 'Same'))\n",
    "model.add(MaxPooling2D(pool_size=(2, 2)))\n",
    "model.add(Dropout(0.25))\n",
    "model.add(Flatten())\n",
    "model.add(Dense(256, activation='relu'))\n",
    "model.add(Dense(64, activation='relu'))\n",
    "model.add(Dense(16, activation='relu'))\n",
    "model.add(Dropout(0.4))\n",
    "model.add(Dense(2, activation='softmax'))"
   ]
  },
  {
   "cell_type": "code",
   "execution_count": 5,
   "metadata": {},
   "outputs": [
    {
     "name": "stdout",
     "output_type": "stream",
     "text": [
      "WARNING:tensorflow:From C:\\Users\\32144204\\AppData\\Local\\Continuum\\anaconda3\\lib\\site-packages\\tensorflow\\python\\ops\\math_ops.py:3066: to_int32 (from tensorflow.python.ops.math_ops) is deprecated and will be removed in a future version.\n",
      "Instructions for updating:\n",
      "Use tf.cast instead.\n",
      "Train on 350 samples, validate on 88 samples\n",
      "Epoch 1/25\n",
      "350/350 [==============================] - 148s 422ms/step - loss: 1.1171 - acc: 0.6400 - val_loss: 0.6556 - val_acc: 0.7273\n",
      "Epoch 2/25\n",
      "350/350 [==============================] - 93s 265ms/step - loss: 0.5940 - acc: 0.7257 - val_loss: 0.2723 - val_acc: 0.9205\n",
      "Epoch 3/25\n",
      "350/350 [==============================] - 92s 262ms/step - loss: 0.1831 - acc: 0.9171 - val_loss: 0.2026 - val_acc: 0.8977\n",
      "Epoch 4/25\n",
      "350/350 [==============================] - 88s 253ms/step - loss: 0.1926 - acc: 0.9200 - val_loss: 0.3488 - val_acc: 0.8977\n",
      "Epoch 5/25\n",
      "350/350 [==============================] - 93s 265ms/step - loss: 0.1387 - acc: 0.9514 - val_loss: 0.1106 - val_acc: 0.9545\n",
      "Epoch 6/25\n",
      "350/350 [==============================] - 89s 255ms/step - loss: 0.1426 - acc: 0.9629 - val_loss: 0.1455 - val_acc: 0.9318\n",
      "Epoch 7/25\n",
      "350/350 [==============================] - 88s 250ms/step - loss: 0.0693 - acc: 0.9714 - val_loss: 0.1271 - val_acc: 0.9545\n",
      "Epoch 8/25\n",
      "350/350 [==============================] - 92s 262ms/step - loss: 0.0427 - acc: 0.9857 - val_loss: 0.1654 - val_acc: 0.9432\n",
      "Epoch 9/25\n",
      "350/350 [==============================] - 89s 253ms/step - loss: 0.0787 - acc: 0.9514 - val_loss: 0.0879 - val_acc: 0.9545\n",
      "Epoch 10/25\n",
      "350/350 [==============================] - 89s 255ms/step - loss: 0.0716 - acc: 0.9771 - val_loss: 0.1782 - val_acc: 0.9545\n",
      "Epoch 11/25\n",
      "350/350 [==============================] - 91s 259ms/step - loss: 0.0232 - acc: 0.9886 - val_loss: 0.2797 - val_acc: 0.9318\n",
      "Epoch 12/25\n",
      "350/350 [==============================] - 89s 254ms/step - loss: 0.0256 - acc: 0.9829 - val_loss: 0.2881 - val_acc: 0.9545\n",
      "Epoch 13/25\n",
      "350/350 [==============================] - 88s 252ms/step - loss: 0.0179 - acc: 0.9886 - val_loss: 0.6354 - val_acc: 0.9091\n",
      "Epoch 14/25\n",
      "350/350 [==============================] - 92s 263ms/step - loss: 0.0457 - acc: 0.9829 - val_loss: 0.1611 - val_acc: 0.9545\n",
      "Epoch 15/25\n",
      "350/350 [==============================] - 86s 246ms/step - loss: 0.0098 - acc: 0.9971 - val_loss: 0.2422 - val_acc: 0.9659\n",
      "Epoch 16/25\n",
      "350/350 [==============================] - 89s 255ms/step - loss: 0.0131 - acc: 0.9971 - val_loss: 0.2124 - val_acc: 0.9432\n",
      "Epoch 17/25\n",
      "350/350 [==============================] - 90s 258ms/step - loss: 0.0052 - acc: 0.9971 - val_loss: 0.3000 - val_acc: 0.9545\n",
      "Epoch 18/25\n",
      "350/350 [==============================] - 85s 244ms/step - loss: 0.1738 - acc: 0.9429 - val_loss: 0.3147 - val_acc: 0.8864\n",
      "Epoch 19/25\n",
      "350/350 [==============================] - 90s 257ms/step - loss: 0.0311 - acc: 0.9886 - val_loss: 0.1555 - val_acc: 0.9432\n",
      "Epoch 20/25\n",
      "350/350 [==============================] - 88s 251ms/step - loss: 0.0052 - acc: 0.9971 - val_loss: 0.1765 - val_acc: 0.9432\n",
      "Epoch 21/25\n",
      "350/350 [==============================] - 87s 248ms/step - loss: 0.0069 - acc: 0.9943 - val_loss: 0.2123 - val_acc: 0.9545\n",
      "Epoch 22/25\n",
      "350/350 [==============================] - 89s 254ms/step - loss: 0.0022 - acc: 1.0000 - val_loss: 0.4376 - val_acc: 0.9545\n",
      "Epoch 23/25\n",
      "350/350 [==============================] - 89s 256ms/step - loss: 0.0046 - acc: 0.9943 - val_loss: 0.3033 - val_acc: 0.9545\n",
      "Epoch 24/25\n",
      "350/350 [==============================] - 85s 242ms/step - loss: 0.0047 - acc: 0.9971 - val_loss: 0.3292 - val_acc: 0.9545\n",
      "Epoch 25/25\n",
      "350/350 [==============================] - 89s 253ms/step - loss: 0.0109 - acc: 0.9886 - val_loss: 0.3887 - val_acc: 0.9432\n"
     ]
    },
    {
     "data": {
      "text/plain": [
       "<keras.callbacks.History at 0x138234ec400>"
      ]
     },
     "execution_count": 5,
     "metadata": {},
     "output_type": "execute_result"
    }
   ],
   "source": [
    "model.compile(loss='binary_crossentropy',\n",
    "              optimizer='adam',\n",
    "              metrics=['accuracy'])\n",
    "\n",
    "model.fit(x_train, y_train,batch_size=8,epochs=25, verbose=1, validation_split=0.2, shuffle=True)"
   ]
  },
  {
   "cell_type": "code",
   "execution_count": 8,
   "metadata": {},
   "outputs": [
    {
     "name": "stdout",
     "output_type": "stream",
     "text": [
      "Saved model to disk\n"
     ]
    }
   ],
   "source": [
    "model_json = model.to_json()\n",
    "with open(\"model2.json\", \"w\") as json_file : \n",
    "    json_file.write(model_json)\n",
    "\n",
    "model.save_weights(\"model2.h5\")\n",
    "print(\"Saved model to disk\")"
   ]
  },
  {
   "cell_type": "code",
   "execution_count": 7,
   "metadata": {},
   "outputs": [
    {
     "name": "stdout",
     "output_type": "stream",
     "text": [
      "189/189 [==============================] - 7s 37ms/step\n"
     ]
    },
    {
     "data": {
      "text/plain": [
       "[3.4774594130339445, 0.783068784960994]"
      ]
     },
     "execution_count": 7,
     "metadata": {},
     "output_type": "execute_result"
    }
   ],
   "source": [
    "model.evaluate(x_test, y_test)"
   ]
  }
 ],
 "metadata": {
  "kernelspec": {
   "display_name": "Python 3",
   "language": "python",
   "name": "python3"
  },
  "language_info": {
   "codemirror_mode": {
    "name": "ipython",
    "version": 3
   },
   "file_extension": ".py",
   "mimetype": "text/x-python",
   "name": "python",
   "nbconvert_exporter": "python",
   "pygments_lexer": "ipython3",
   "version": "3.7.1"
  }
 },
 "nbformat": 4,
 "nbformat_minor": 2
}
