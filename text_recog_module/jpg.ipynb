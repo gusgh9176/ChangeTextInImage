{
 "cells": [
  {
   "cell_type": "code",
   "execution_count": 1,
   "metadata": {},
   "outputs": [
    {
     "name": "stderr",
     "output_type": "stream",
     "text": [
      "Using TensorFlow backend.\n"
     ]
    }
   ],
   "source": [
    "from __future__ import print_function\n",
    "import keras\n",
    "from keras.layers import Dense, Dropout, Activation, Flatten\n",
    "from keras.layers import Conv2D, MaxPooling2D\n",
    "from keras.models import Sequential\n",
    "import cv2\n",
    "import os\n",
    "import numpy as np\n",
    "from keras.utils import np_utils\n",
    "from keras.callbacks import EarlyStopping\n",
    "from datetime import datetime\n",
    "from sklearn.metrics import accuracy_score, f1_score\n",
    "\n",
    "p_file_list = os.listdir(\"./positive\")\n",
    "y_data = []\n",
    "\n",
    "for i in range(len(p_file_list)):\n",
    "    y_data.append([0])\n",
    "    \n",
    "n_file_list = os.listdir(\"./negative\")\n",
    "\n",
    "for i in range(len(n_file_list)):\n",
    "    y_data.append([1])\n",
    "\n",
    "file_list = p_file_list + n_file_list\n",
    "sfl_num = list(range(len(file_list)))\n",
    "np.random.shuffle(sfl_num)\n",
    "\n",
    "tmp_std = int(len(sfl_num)/10 * 7)\n",
    "tr_sfl_num = sfl_num[:tmp_std]\n",
    "ts_sfl_num = sfl_num[tmp_std:]"
   ]
  },
  {
   "cell_type": "code",
   "execution_count": 2,
   "metadata": {},
   "outputs": [],
   "source": [
    "x_train = []\n",
    "y_train = []\n",
    "x_test = []\n",
    "y_test = []\n",
    "\n",
    "for element in tr_sfl_num:\n",
    "    if y_data[element] == [0]:\n",
    "        tmp_str = str(\"./positive/\") + file_list[element]\n",
    "    else :\n",
    "        tmp_str = str(\"./negative/\") + file_list[element]\n",
    "    x_train.append(cv2.imread(tmp_str))\n",
    "    y_train.append(y_data[element])\n",
    "    \n",
    "for element in ts_sfl_num:\n",
    "    if y_data[element] == [0]:\n",
    "        tmp_str = str(\"./positive/\") + file_list[element]\n",
    "    else :\n",
    "        tmp_str = str(\"./negative/\") + file_list[element]\n",
    "    x_test.append(cv2.imread(tmp_str))\n",
    "    y_test.append(y_data[element])"
   ]
  },
  {
   "cell_type": "code",
   "execution_count": 3,
   "metadata": {},
   "outputs": [],
   "source": [
    "for i in range(len(x_train)):\n",
    "    x_train[i] = cv2.resize(x_train[i], (200, 200))\n",
    "    x_train[i] = x_train[i] / 255\n",
    "\n",
    "for i in range(len(x_test)):\n",
    "    x_test[i] = cv2.resize(x_test[i], (200, 200))\n",
    "    x_test[i] - x_test[i]/255\n",
    "    \n",
    "x_train= np.asarray(x_train)\n",
    "x_test = np.asarray(x_test)\n",
    "    \n",
    "x_train = x_train.reshape(len(y_train),200,200,3)\n",
    "x_test = x_test.reshape(len(y_test),200,200,3)\n",
    "\n",
    "y_train = keras.utils.to_categorical(y_train, 3)\n",
    "y_test = keras.utils.to_categorical(y_test, 3)"
   ]
  },
  {
   "cell_type": "code",
   "execution_count": 4,
   "metadata": {},
   "outputs": [
    {
     "name": "stdout",
     "output_type": "stream",
     "text": [
      "WARNING:tensorflow:From C:\\Users\\32144204\\AppData\\Local\\Continuum\\anaconda3\\lib\\site-packages\\tensorflow\\python\\framework\\op_def_library.py:263: colocate_with (from tensorflow.python.framework.ops) is deprecated and will be removed in a future version.\n",
      "Instructions for updating:\n",
      "Colocations handled automatically by placer.\n",
      "WARNING:tensorflow:From C:\\Users\\32144204\\AppData\\Local\\Continuum\\anaconda3\\lib\\site-packages\\keras\\backend\\tensorflow_backend.py:3445: calling dropout (from tensorflow.python.ops.nn_ops) with keep_prob is deprecated and will be removed in a future version.\n",
      "Instructions for updating:\n",
      "Please use `rate` instead of `keep_prob`. Rate should be set to `rate = 1 - keep_prob`.\n"
     ]
    }
   ],
   "source": [
    "#create model\n",
    "model = Sequential()\n",
    "#add model layers\n",
    "model.add(Conv2D(32, (3, 3), activation='relu', input_shape=(200, 200, 3)))\n",
    "model.add(Conv2D(32, (3, 3), activation='relu'))\n",
    "model.add(MaxPooling2D(pool_size=(2, 2)))\n",
    "model.add(Dropout(0.25))\n",
    "model.add(Flatten())\n",
    "model.add(Dense(128, activation='relu'))\n",
    "model.add(Dropout(0.5))\n",
    "model.add(Dense(3, activation='softmax'))"
   ]
  },
  {
   "cell_type": "code",
   "execution_count": 5,
   "metadata": {},
   "outputs": [
    {
     "name": "stdout",
     "output_type": "stream",
     "text": [
      "WARNING:tensorflow:From C:\\Users\\32144204\\AppData\\Local\\Continuum\\anaconda3\\lib\\site-packages\\tensorflow\\python\\ops\\math_ops.py:3066: to_int32 (from tensorflow.python.ops.math_ops) is deprecated and will be removed in a future version.\n",
      "Instructions for updating:\n",
      "Use tf.cast instead.\n",
      "Epoch 1/20\n",
      "3902/3902 [==============================] - 747s 191ms/step - loss: 0.8435 - acc: 0.9436\n",
      "Epoch 2/20\n",
      "3902/3902 [==============================] - 502s 129ms/step - loss: 0.8408 - acc: 0.9475\n",
      "Epoch 3/20\n",
      "3902/3902 [==============================] - 502s 129ms/step - loss: 0.8408 - acc: 0.9475\n",
      "Epoch 4/20\n",
      "3902/3902 [==============================] - 503s 129ms/step - loss: 0.8408 - acc: 0.9475\n",
      "Epoch 5/20\n",
      "3902/3902 [==============================] - 504s 129ms/step - loss: 0.8408 - acc: 0.9475\n",
      "Epoch 6/20\n",
      "3902/3902 [==============================] - 502s 129ms/step - loss: 0.8408 - acc: 0.9475\n",
      "Epoch 7/20\n",
      "3902/3902 [==============================] - 502s 129ms/step - loss: 0.8408 - acc: 0.9475\n",
      "Epoch 8/20\n",
      "3902/3902 [==============================] - 498s 128ms/step - loss: 0.8408 - acc: 0.9475\n",
      "Epoch 9/20\n",
      "3902/3902 [==============================] - 499s 128ms/step - loss: 0.8408 - acc: 0.9475\n",
      "Epoch 10/20\n",
      "3902/3902 [==============================] - 505s 129ms/step - loss: 0.8408 - acc: 0.9475\n",
      "Epoch 11/20\n",
      "3902/3902 [==============================] - 508s 130ms/step - loss: 0.8408 - acc: 0.9475\n",
      "Epoch 12/20\n",
      "3902/3902 [==============================] - 504s 129ms/step - loss: 0.8408 - acc: 0.9475\n",
      "Epoch 13/20\n",
      "3902/3902 [==============================] - 501s 128ms/step - loss: 0.8408 - acc: 0.9475\n",
      "Epoch 14/20\n",
      "3902/3902 [==============================] - 499s 128ms/step - loss: 0.8408 - acc: 0.9475\n",
      "Epoch 15/20\n",
      "3902/3902 [==============================] - 498s 128ms/step - loss: 0.8408 - acc: 0.9475\n",
      "Epoch 16/20\n",
      "3902/3902 [==============================] - 500s 128ms/step - loss: 0.8408 - acc: 0.9475\n",
      "Epoch 17/20\n",
      "3902/3902 [==============================] - 510s 131ms/step - loss: 0.8408 - acc: 0.9475\n",
      "Epoch 18/20\n",
      "3902/3902 [==============================] - 500s 128ms/step - loss: 0.8408 - acc: 0.9475\n",
      "Epoch 19/20\n",
      "3902/3902 [==============================] - 499s 128ms/step - loss: 0.8408 - acc: 0.9475\n",
      "Epoch 20/20\n",
      "3902/3902 [==============================] - 499s 128ms/step - loss: 0.8408 - acc: 0.9475\n"
     ]
    },
    {
     "data": {
      "text/plain": [
       "<keras.callbacks.History at 0x1a0f8d470f0>"
      ]
     },
     "execution_count": 5,
     "metadata": {},
     "output_type": "execute_result"
    }
   ],
   "source": [
    "model.compile(loss='binary_crossentropy',\n",
    "              optimizer='adam',\n",
    "              metrics=['accuracy'])\n",
    "\n",
    "model.fit(x_train, y_train,batch_size=50,epochs=20, verbose=1)"
   ]
  },
  {
   "cell_type": "code",
   "execution_count": 7,
   "metadata": {},
   "outputs": [],
   "source": [
    "model_json = model.to_json()\n",
    "with open(\"model.json\", \"w\") as json_file : \n",
    "    json_file.write(model_json)"
   ]
  },
  {
   "cell_type": "code",
   "execution_count": 8,
   "metadata": {},
   "outputs": [
    {
     "name": "stdout",
     "output_type": "stream",
     "text": [
      "Saved model to disk\n"
     ]
    }
   ],
   "source": [
    "model.save_weights(\"model.h5\")\n",
    "print(\"Saved model to disk\")"
   ]
  },
  {
   "cell_type": "code",
   "execution_count": 10,
   "metadata": {},
   "outputs": [
    {
     "name": "stdout",
     "output_type": "stream",
     "text": [
      "1673/1673 [==============================] - 65s 39ms/step\n"
     ]
    },
    {
     "data": {
      "text/plain": [
       "[0.84319252507881, 0.9473998882923024]"
      ]
     },
     "execution_count": 10,
     "metadata": {},
     "output_type": "execute_result"
    }
   ],
   "source": [
    "model.evaluate( x_test, y_test)"
   ]
  },
  {
   "cell_type": "code",
   "execution_count": null,
   "metadata": {},
   "outputs": [],
   "source": [
    "#from keras.models import model_from_json\n",
    "\n",
    "#json_file = open(\"model.json\", \"r\")\n",
    "#loaded_model_json = json_file.read()\n",
    "#json_file.close()\n",
    "#loaded_model = model_from_json(loaded_model_json)\n",
    "#loaded_model.load_weights(\"model.h5\")\n",
    "#print(\"Loaded model from disk\")\n",
    "\n",
    "#loaded_model.compile(loss=\"binary_crossentropy\", optimizer=\"adam\", metrics=['accuracy'])\n",
    "\n",
    "#score = loaded_model.evaluate(X,Y,verbose=0)\n",
    "\n",
    "#print(\"%s : %.2f%%\" % (loaded_model.metrics_names[1], score[1]*100))"
   ]
  }
 ],
 "metadata": {
  "kernelspec": {
   "display_name": "Python 3",
   "language": "python",
   "name": "python3"
  },
  "language_info": {
   "codemirror_mode": {
    "name": "ipython",
    "version": 3
   },
   "file_extension": ".py",
   "mimetype": "text/x-python",
   "name": "python",
   "nbconvert_exporter": "python",
   "pygments_lexer": "ipython3",
   "version": "3.6.5"
  }
 },
 "nbformat": 4,
 "nbformat_minor": 2
}
