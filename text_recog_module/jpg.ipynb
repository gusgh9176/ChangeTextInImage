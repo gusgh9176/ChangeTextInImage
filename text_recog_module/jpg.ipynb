{
 "cells": [
  {
   "cell_type": "code",
   "execution_count": 1,
   "metadata": {},
   "outputs": [
    {
     "name": "stderr",
     "output_type": "stream",
     "text": [
      "Using TensorFlow backend.\n"
     ]
    }
   ],
   "source": [
    "from __future__ import print_function\n",
    "import keras\n",
    "from keras.layers import Dense, Dropout, Activation, Flatten\n",
    "from keras.layers import Conv2D, MaxPooling2D\n",
    "from keras.models import Sequential\n",
    "import cv2\n",
    "import os\n",
    "import numpy as np\n",
    "from keras.utils import np_utils\n",
    "from keras.callbacks import EarlyStopping\n",
    "from datetime import datetime\n",
    "from sklearn.metrics import accuracy_score, f1_score\n",
    "\n",
    "p_file_list = os.listdir(\"./positive\")\n",
    "y_data = []\n",
    "\n",
    "for i in range(len(p_file_list)):\n",
    "    y_data.append([0])\n",
    "    \n",
    "n_file_list = os.listdir(\"./negative\")\n",
    "\n",
    "for i in range(len(n_file_list)):\n",
    "    y_data.append([1])\n",
    "\n",
    "file_list = p_file_list + n_file_list\n",
    "sfl_num = list(range(len(file_list)))\n",
    "np.random.shuffle(sfl_num)\n",
    "\n",
    "tmp_std = int(len(sfl_num)/10 * 7)\n",
    "tr_sfl_num = sfl_num[:tmp_std]\n",
    "ts_sfl_num = sfl_num[tmp_std:]"
   ]
  },
  {
   "cell_type": "code",
   "execution_count": 2,
   "metadata": {},
   "outputs": [],
   "source": [
    "x_train = []\n",
    "y_train = []\n",
    "x_test = []\n",
    "y_test = []\n",
    "\n",
    "for element in tr_sfl_num:\n",
    "    if y_data[element] == [0]:\n",
    "        tmp_str = str(\"./positive/\") + file_list[element]\n",
    "    else :\n",
    "        tmp_str = str(\"./negative/\") + file_list[element]\n",
    "    x_train.append(cv2.imread(tmp_str, cv2.IMREAD_GRAYSCALE))\n",
    "    y_train.append(y_data[element])\n",
    "    \n",
    "for element in ts_sfl_num:\n",
    "    if y_data[element] == [0]:\n",
    "        tmp_str = str(\"./positive/\") + file_list[element]\n",
    "    else :\n",
    "        tmp_str = str(\"./negative/\") + file_list[element]\n",
    "    x_test.append(cv2.imread(tmp_str, cv2.IMREAD_GRAYSCALE))\n",
    "    y_test.append(y_data[element])"
   ]
  },
  {
   "cell_type": "code",
   "execution_count": 3,
   "metadata": {},
   "outputs": [
    {
     "name": "stdout",
     "output_type": "stream",
     "text": [
      "(200, 200)\n"
     ]
    }
   ],
   "source": [
    "for i in range(len(x_train)):\n",
    "    x_train[i] = cv2.resize(x_train[i], (200, 200))\n",
    "    x_train[i] = x_train[i] / 255\n",
    "    \n",
    "print(x_train[1].shape)\n",
    "\n",
    "for i in range(len(x_test)):\n",
    "    x_test[i] = cv2.resize(x_test[i], (200, 200))\n",
    "    x_test[i] - x_test[i]/255\n",
    "    \n",
    "x_train= np.asarray(x_train)\n",
    "x_test = np.asarray(x_test)\n",
    "    \n",
    "x_train = x_train.reshape(len(y_train),200,200,1)\n",
    "x_test = x_test.reshape(len(y_test),200,200,1)\n",
    "\n",
    "y_train = keras.utils.to_categorical(y_train, 2)\n",
    "y_test = keras.utils.to_categorical(y_test, 2)"
   ]
  },
  {
   "cell_type": "code",
   "execution_count": 4,
   "metadata": {},
   "outputs": [
    {
     "name": "stdout",
     "output_type": "stream",
     "text": [
      "WARNING:tensorflow:From C:\\Users\\32144204\\AppData\\Local\\Continuum\\anaconda3\\lib\\site-packages\\tensorflow\\python\\framework\\op_def_library.py:263: colocate_with (from tensorflow.python.framework.ops) is deprecated and will be removed in a future version.\n",
      "Instructions for updating:\n",
      "Colocations handled automatically by placer.\n",
      "WARNING:tensorflow:From C:\\Users\\32144204\\AppData\\Local\\Continuum\\anaconda3\\lib\\site-packages\\keras\\backend\\tensorflow_backend.py:3445: calling dropout (from tensorflow.python.ops.nn_ops) with keep_prob is deprecated and will be removed in a future version.\n",
      "Instructions for updating:\n",
      "Please use `rate` instead of `keep_prob`. Rate should be set to `rate = 1 - keep_prob`.\n"
     ]
    }
   ],
   "source": [
    "#create model\n",
    "model = Sequential()\n",
    "#add model layers\n",
    "model.add(Conv2D(32, (3, 3), activation='relu', input_shape=(200, 200, 1)))\n",
    "model.add(Conv2D(32, (3, 3), activation='relu'))\n",
    "model.add(MaxPooling2D(pool_size=(2, 2)))\n",
    "model.add(Dropout(0.25))\n",
    "model.add(Flatten())\n",
    "model.add(Dense(128, activation='relu'))\n",
    "model.add(Dropout(0.5))\n",
    "model.add(Dense(2, activation='softmax'))"
   ]
  },
  {
   "cell_type": "code",
   "execution_count": null,
   "metadata": {},
   "outputs": [
    {
     "name": "stdout",
     "output_type": "stream",
     "text": [
      "WARNING:tensorflow:From C:\\Users\\32144204\\AppData\\Local\\Continuum\\anaconda3\\lib\\site-packages\\tensorflow\\python\\ops\\math_ops.py:3066: to_int32 (from tensorflow.python.ops.math_ops) is deprecated and will be removed in a future version.\n",
      "Instructions for updating:\n",
      "Use tf.cast instead.\n",
      "Train on 809 samples, validate on 203 samples\n",
      "Epoch 1/20\n",
      "809/809 [==============================] - 151s 186ms/step - loss: 3.4519 - acc: 0.5983 - val_loss: 0.5904 - val_acc: 0.6995\n",
      "Epoch 2/20\n",
      "809/809 [==============================] - 140s 173ms/step - loss: 0.4619 - acc: 0.7960 - val_loss: 0.4659 - val_acc: 0.7980\n",
      "Epoch 3/20\n",
      "288/809 [=========>....................] - ETA: 1:25 - loss: 0.2766 - acc: 0.8889"
     ]
    }
   ],
   "source": [
    "model.compile(loss='binary_crossentropy',\n",
    "              optimizer='adam',\n",
    "              metrics=['accuracy'])\n",
    "\n",
    "model.fit(x_train, y_train,batch_size=16,epochs=20, verbose=1, validation_split=0.2, shuffle=True)"
   ]
  },
  {
   "cell_type": "code",
   "execution_count": null,
   "metadata": {},
   "outputs": [],
   "source": [
    "model_json = model.to_json()\n",
    "with open(\"model.json\", \"w\") as json_file : \n",
    "    json_file.write(model_json)"
   ]
  },
  {
   "cell_type": "code",
   "execution_count": null,
   "metadata": {},
   "outputs": [],
   "source": [
    "model.save_weights(\"model.h5\")\n",
    "print(\"Saved model to disk\")"
   ]
  },
  {
   "cell_type": "code",
   "execution_count": null,
   "metadata": {},
   "outputs": [],
   "source": [
    "model.evaluate( x_test, y_test)"
   ]
  },
  {
   "cell_type": "code",
   "execution_count": null,
   "metadata": {},
   "outputs": [],
   "source": [
    "#from keras.models import model_from_json\n",
    "\n",
    "#json_file = open(\"model.json\", \"r\")\n",
    "#loaded_model_json = json_file.read()\n",
    "#json_file.close()\n",
    "#loaded_model = model_from_json(loaded_model_json)\n",
    "#loaded_model.load_weights(\"model.h5\")\n",
    "#print(\"Loaded model from disk\")\n",
    "\n",
    "#loaded_model.compile(loss=\"binary_crossentropy\", optimizer=\"adam\", metrics=['accuracy'])"
   ]
  }
 ],
 "metadata": {
  "kernelspec": {
   "display_name": "Python 3",
   "language": "python",
   "name": "python3"
  },
  "language_info": {
   "codemirror_mode": {
    "name": "ipython",
    "version": 3
   },
   "file_extension": ".py",
   "mimetype": "text/x-python",
   "name": "python",
   "nbconvert_exporter": "python",
   "pygments_lexer": "ipython3",
   "version": "3.7.1"
  }
 },
 "nbformat": 4,
 "nbformat_minor": 2
}
